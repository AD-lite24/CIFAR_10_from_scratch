{
 "cells": [
  {
   "cell_type": "code",
   "execution_count": 98,
   "metadata": {},
   "outputs": [],
   "source": [
    "import numpy as np\n",
    "import math\n",
    "from sklearn.metrics import accuracy_score \n",
    "from tqdm import tqdm"
   ]
  },
  {
   "cell_type": "code",
   "execution_count": 99,
   "metadata": {},
   "outputs": [],
   "source": [
    "def unpickle(file):\n",
    "    import pickle\n",
    "    with open(file, 'rb') as fo:\n",
    "        dict = pickle.load(fo, encoding='bytes')\n",
    "    return dict"
   ]
  },
  {
   "cell_type": "code",
   "execution_count": 100,
   "metadata": {},
   "outputs": [],
   "source": [
    "cifar_dataset = r'/Users/adityadandwate/Desktop/Projects/Proper/cifar-10/cifar-10-batches-py'\n"
   ]
  },
  {
   "cell_type": "code",
   "execution_count": 101,
   "metadata": {},
   "outputs": [
    {
     "name": "stdout",
     "output_type": "stream",
     "text": [
      "<class 'list'>\n"
     ]
    }
   ],
   "source": [
    "types = ['batches.meta', 'data_batch_1', 'data_batch_2', 'data_batch_3', 'data_batch_4', 'data_batch_5', 'test_batch']\n",
    "set_data = [0,1,2,3,4,5,6]\n",
    "\n",
    "for i, y in zip(set_data, types):\n",
    "    set_data[i] = unpickle(cifar_dataset + '/' +y)\n",
    "\n",
    "print(type(set_data))"
   ]
  },
  {
   "cell_type": "code",
   "execution_count": 102,
   "metadata": {},
   "outputs": [],
   "source": [
    "# data_dict = {}\n",
    "\n",
    "# for i in range(7):\n",
    "#     data_dict[types[i]] = set_data[i]\n",
    "\n",
    "# print(type(data_dict))\n",
    "# print(data_dict['batches.meta'])\n",
    "\n",
    "#Alternate way\n",
    "batch_meta = set_data[0]\n",
    "data_batch1 = set_data[1]\n",
    "data_batch2 = set_data[2]\n",
    "data_batch3 = set_data[3]\n",
    "data_batch4 = set_data[4]\n",
    "data_batch5 = set_data[5]\n",
    "test_batch = set_data[6]\n",
    "\n"
   ]
  },
  {
   "cell_type": "code",
   "execution_count": 103,
   "metadata": {},
   "outputs": [],
   "source": [
    "import matplotlib.pyplot as plt\n",
    "%matplotlib inline\n",
    "import numpy as np\n"
   ]
  },
  {
   "cell_type": "code",
   "execution_count": 104,
   "metadata": {},
   "outputs": [
    {
     "name": "stdout",
     "output_type": "stream",
     "text": [
      "(10000, 3072)\n"
     ]
    },
    {
     "data": {
      "text/plain": [
       "(10000, 32, 32, 3)"
      ]
     },
     "execution_count": 104,
     "metadata": {},
     "output_type": "execute_result"
    }
   ],
   "source": [
    "#testing reshaping\n",
    "\n",
    "X = data_batch1[b'data']\n",
    "print(X.shape)\n",
    "\n",
    "#reshaping X and then transposing\n",
    "X = X.reshape(10000, 3, 32, 32).transpose(0,2,3,1).astype(\"uint8\")\n",
    "X.shape\n"
   ]
  },
  {
   "cell_type": "code",
   "execution_count": 105,
   "metadata": {},
   "outputs": [
    {
     "data": {
      "text/plain": [
       "<matplotlib.image.AxesImage at 0x7f94e2a70f50>"
      ]
     },
     "execution_count": 105,
     "metadata": {},
     "output_type": "execute_result"
    },
    {
     "data": {
      "image/png": "[encoded data removed]",
      "text/plain": [
       "<Figure size 432x288 with 1 Axes>"
      ]
     },
     "metadata": {
      "needs_background": "light"
     },
     "output_type": "display_data"
    }
   ],
   "source": [
    "#Testing plt \n",
    "plt.imshow(X[524])"
   ]
  },
  {
   "cell_type": "code",
   "execution_count": 106,
   "metadata": {},
   "outputs": [],
   "source": [
    "#One hot encoding function=\n",
    "\n",
    "def one_hot(vec, vals = 10):\n",
    "    n = len(vec)\n",
    "    out = np.zeros((n,vals))\n",
    "    out[range(n), vec] = 1\n",
    "    return out"
   ]
  },
  {
   "cell_type": "code",
   "execution_count": 107,
   "metadata": {},
   "outputs": [],
   "source": [
    "class CifarClass():    #Creating the class for the relevant methods\n",
    "\n",
    "    def __init__(self, learning_rate = 0.1, max_iter = 1000, minimum_step_size = 0.001, early_stopping = True, n=20):\n",
    "        self.i = 0\n",
    "        self.training_sets = [data_batch1, data_batch2, data_batch3, data_batch4, data_batch5]\n",
    "        self.test_set = [test_batch]\n",
    "        self.training_images = None\n",
    "        self.training_labels = None \n",
    "        self.testing_images = None\n",
    "        self.testing_labels = None\n",
    "        self.__learning_rate = learning_rate\n",
    "        self.__max_iter = max_iter\n",
    "        self.__minimum_step_size = minimum_step_size\n",
    "        self.__early_stopping = early_stopping\n",
    "        self.__n = n\n",
    "\n",
    "\n",
    "    def setup_of_images(self):\n",
    "        self.training_images = np.vstack([j[b\"data\"] for j in self.training_sets]) #Concatenating all training images from all batches\n",
    "        train_len = len(self.training_images)\n",
    "        self.training_images = self.training_images.reshape(train_len, 3, 32, 32).transpose(0,2,3,1)/255 #reshaping\n",
    "        self.training_labels = one_hot(np.hstack([j[b'labels'] for j in self.training_sets]), 10) #one hot encodig of the labels\n",
    "\n",
    "        self.testing_images = np.vstack([j[b'data'] for j in self.test_set])\n",
    "        test_len = len(self.testing_images)\n",
    "        self.testing_images = self.testing_images.reshape(test_len, 3 ,32 ,32).transpose(0,2,3,1)/255 #reshaping \n",
    "        self.testing_labels = one_hot(np.hstack([j[b'labels'] for j in self.test_set]), 10)\n",
    "\n",
    "    def next_batch(self, batch_size):\n",
    "        x = self.training_images[self.i: self.i + batch_size].reshape(100, 32, 32, 3)\n",
    "        y = self.training_labels[self.i: self.i + batch_size]\n",
    "        self.i = (self.i + batch_size)%len(self.training_images)\n",
    "        return x,y\n",
    "\n",
    "    #calculating the score for x for a given class k\n",
    "    def __calculate_score(self, k, x):\n",
    "        weight = self.__weights[k]\n",
    "        return np.exp(x.dot(weight))\n",
    "\n",
    "    def __calculate_softmax(self, k, x):\n",
    "        summation = 0\n",
    "        for i in range(self.__class_count):\n",
    "            summation += self.__calculate_score(i,x)\n",
    "            \n",
    "        return self.__calculate_score(k,x)/summation\n",
    "\n",
    "    def __cross_entropy_gradient(self, k):\n",
    "        sum = 0\n",
    "        for i in range (len(self.__x)):\n",
    "            sum += ((self.__calculate_softmax(k,self.__x[i]) - self.__y[i][k]) * self.__x[i])\n",
    "        return sum / len(self.__x)\n",
    "    \n",
    "    def __new_weights(self, k): \n",
    "        #no change if class is in exclusion list\n",
    "        if k in self.__exclusion_list:\n",
    "            return self.__weights[k]\n",
    "\n",
    "        step_size = self.__cross_entropy_gradient(k)*self.__learning_rate\n",
    "\n",
    "        #code to add classes to excleusion list\n",
    "        if np.amax(step_size) <= self.__minimum_step_size:\n",
    "            self.__exclusion_list.append(k)\n",
    "        \n",
    "        return self.__weights[k] - step_size\n",
    "    \n",
    "    def train(self, X, y):\n",
    "        \n",
    "        if self.__early_stopping:\n",
    "            split_index = int(len(X) * 0.1)\n",
    "            self.__x = X[split_index:]\n",
    "            self.__y = y[split_index:]\n",
    "            self.__x_val = X[:split_index]\n",
    "            self.__y_val = y[:split_index]\n",
    "        else:\n",
    "            self.__x = X\n",
    "            self.__y = y \n",
    "\n",
    "        self.__class_count = len(self.__y[0])\n",
    "        self.__weights = np.random.rand(self.__class_count, X.shape[1])\n",
    "        self.__exclusion_list = []\n",
    "        max_acc = -1\n",
    "        n=0\n",
    "        \n",
    "        for i in tqdm(range(self.__max_iter)):\n",
    "            for j in tqdm(range(self.__class_count)):\n",
    "                self.__weights[j] = self.__new_weights(j)\n",
    "            \n",
    "            #stop training once all classes have been added to the exclusion list\n",
    "            if len(self.__exclusion_list) == self.__class_count:\n",
    "                break\n",
    "            \n",
    "            #if early stopping is enabled\n",
    "            if (self.__early_stopping):\n",
    "                y_val_pred = self.predict(self.__x_val)\n",
    "                acc = accuracy_score(self.__y_val, y_val_pred)\n",
    "                if acc == max_acc:\n",
    "                    max_acc = acc\n",
    "                    n = 0\n",
    "                else:\n",
    "                    n += 1\n",
    "                    if n >= self.__n:\n",
    "                        break\n",
    "    \n",
    "    #returns the prediccted label in one hot encoded form\n",
    "    def predict(self, X):\n",
    "        y= np.zeros((len(X), self.__class_count))\n",
    "        for i in range(len(X)):\n",
    "            max_score_idx = 0\n",
    "            max_score = 0\n",
    "            for j in range(self.__class_count):\n",
    "                score = self.__calculate_softmax(j, X[i])\n",
    "                if score > max_score:\n",
    "                    max_score = score\n",
    "                    max_score_idx = j\n",
    "            y[i][max_score_idx] = 1\n",
    "        return y\n"
   ]
  },
  {
   "cell_type": "code",
   "execution_count": 108,
   "metadata": {},
   "outputs": [
    {
     "name": "stdout",
     "output_type": "stream",
     "text": [
      "(50000, 32, 32, 3)\n",
      "(10000, 32, 32, 3)\n"
     ]
    }
   ],
   "source": [
    "cc = CifarClass() \n",
    "cc.setup_of_images()\n",
    "\n",
    "print (cc.training_images.shape)\n",
    "print(cc.testing_images.shape)"
   ]
  },
  {
   "cell_type": "code",
   "execution_count": 109,
   "metadata": {},
   "outputs": [
    {
     "name": "stdout",
     "output_type": "stream",
     "text": [
      "(50000, 3072)\n",
      "(10000, 3072)\n"
     ]
    }
   ],
   "source": [
    "#reflattening lol\n",
    "\n",
    "cc.training_images = cc.training_images.reshape(50000, 3072)\n",
    "print(cc.training_images.shape)\n",
    "cc.testing_images = cc.testing_images.reshape(10000, 3072)\n",
    "print(cc.testing_images.shape)"
   ]
  },
  {
   "cell_type": "code",
   "execution_count": 110,
   "metadata": {},
   "outputs": [],
   "source": [
    "def main():\n",
    "   \n",
    "    X_train = cc.training_images\n",
    "    y_train = cc.training_labels\n",
    "\n",
    "    X_test = cc.testing_images\n",
    "    y_test = cc.testing_labels\n",
    "\n",
    "    cc.train(X_train, y_train)\n",
    "\n",
    "    predictions = cc.predict(X_test)\n",
    "\n",
    "    print(accuracy_score(y_test, predictions))"
   ]
  },
  {
   "cell_type": "code",
   "execution_count": 111,
   "metadata": {},
   "outputs": [
    {
     "name": "stderr",
     "output_type": "stream",
     "text": [
      "  0%|          | 0/1000 [00:00<?, ?it/s]/Users/adityadandwate/opt/anaconda3/envs/tf/lib/python3.7/site-packages/ipykernel_launcher.py:38: RuntimeWarning: overflow encountered in exp\n",
      "/Users/adityadandwate/opt/anaconda3/envs/tf/lib/python3.7/site-packages/ipykernel_launcher.py:45: RuntimeWarning: invalid value encountered in double_scalars\n",
      "/Users/adityadandwate/opt/anaconda3/envs/tf/lib/python3.7/site-packages/ipykernel_launcher.py:43: RuntimeWarning: overflow encountered in double_scalars\n",
      "100%|██████████| 10/10 [00:28<00:00,  2.80s/it]\n",
      "100%|██████████| 10/10 [00:15<00:00,  1.57s/it]it]\n",
      "100%|██████████| 10/10 [00:18<00:00,  1.89s/it]it]\n",
      "100%|██████████| 10/10 [00:17<00:00,  1.73s/it]it]\n",
      "100%|██████████| 10/10 [00:18<00:00,  1.85s/it]it]\n",
      "100%|██████████| 10/10 [00:23<00:00,  2.39s/it]it]\n",
      "100%|██████████| 10/10 [00:16<00:00,  1.68s/it]it]\n",
      "100%|██████████| 10/10 [00:17<00:00,  1.73s/it]it]\n",
      "100%|██████████| 10/10 [00:15<00:00,  1.51s/it]it]\n",
      "100%|██████████| 10/10 [00:18<00:00,  1.81s/it]it]\n",
      "100%|██████████| 10/10 [00:25<00:00,  2.55s/it]/it]\n",
      "100%|██████████| 10/10 [00:33<00:00,  3.30s/it]/it]\n",
      "100%|██████████| 10/10 [00:17<00:00,  1.70s/it]/it]\n",
      "100%|██████████| 10/10 [00:19<00:00,  1.93s/it]/it]\n",
      "100%|██████████| 10/10 [00:30<00:00,  3.07s/it]/it]\n",
      "100%|██████████| 10/10 [00:34<00:00,  3.49s/it]/it]\n",
      "100%|██████████| 10/10 [00:21<00:00,  2.11s/it]/it]\n",
      "100%|██████████| 10/10 [00:24<00:00,  2.49s/it]/it]\n",
      "100%|██████████| 10/10 [00:16<00:00,  1.68s/it]/it]\n",
      "100%|██████████| 10/10 [00:16<00:00,  1.68s/it]/it]\n",
      "  2%|▏         | 19/1000 [07:41<6:37:32, 24.31s/it]\n"
     ]
    },
    {
     "name": "stdout",
     "output_type": "stream",
     "text": [
      "0.1\n"
     ]
    }
   ],
   "source": [
    "if __name__ == \"__main__\":\n",
    "    main()"
   ]
  },
  {
   "cell_type": "code",
   "execution_count": null,
   "metadata": {},
   "outputs": [],
   "source": []
  }
 ],
 "metadata": {
  "kernelspec": {
   "display_name": "Python 3.7.13 ('tf')",
   "language": "python",
   "name": "python3"
  },
  "language_info": {
   "codemirror_mode": {
    "name": "ipython",
    "version": 3
   },
   "file_extension": ".py",
   "mimetype": "text/x-python",
   "name": "python",
   "nbconvert_exporter": "python",
   "pygments_lexer": "ipython3",
   "version": "3.7.13"
  },
  "orig_nbformat": 4,
  "vscode": {
   "interpreter": {
    "hash": "28031d7d25694f73766452af3c8f3519c0d1811094a598bb3ab04b29b8086b2e"
   }
  }
 },
 "nbformat": 4,
 "nbformat_minor": 2
}
