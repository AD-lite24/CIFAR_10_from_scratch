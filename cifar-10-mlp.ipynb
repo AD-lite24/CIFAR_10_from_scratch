{
 "cells": [
  {
   "cell_type": "code",
   "execution_count": null,
   "id": "1e618396",
   "metadata": {
    "_cell_guid": "b1076dfc-b9ad-4769-8c92-a6c4dae69d19",
    "_uuid": "8f2839f25d086af736a60e9eeb907d3b93b6e0e5",
    "execution": {
     "iopub.execute_input": "2022-07-29T06:05:31.499921Z",
     "iopub.status.busy": "2022-07-29T06:05:31.498979Z",
     "iopub.status.idle": "2022-07-29T06:05:37.568680Z",
     "shell.execute_reply": "2022-07-29T06:05:37.567699Z"
    },
    "papermill": {
     "duration": 6.078471,
     "end_time": "2022-07-29T06:05:37.571784",
     "exception": false,
     "start_time": "2022-07-29T06:05:31.493313",
     "status": "completed"
    },
    "tags": []
   },
   "outputs": [
    {
     "ename": "ImportError",
     "evalue": "cannot import name 'get_config' from 'tensorflow.python.eager.context' (/Users/adityadandwate/opt/anaconda3/envs/tf/lib/python3.7/site-packages/tensorflow_core/python/eager/context.py)",
     "output_type": "error",
     "traceback": [
      "\u001b[0;31m---------------------------------------------------------------------------\u001b[0m",
      "\u001b[0;31mImportError\u001b[0m                               Traceback (most recent call last)",
      "\u001b[0;32m/var/folders/0k/4_g9gvz567j5wm49qqmmqy040000gn/T/ipykernel_49965/3560852323.py\u001b[0m in \u001b[0;36m<module>\u001b[0;34m\u001b[0m\n\u001b[1;32m      5\u001b[0m \u001b[0;32mfrom\u001b[0m \u001b[0mtensorflow\u001b[0m \u001b[0;32mimport\u001b[0m \u001b[0mkeras\u001b[0m\u001b[0;34m\u001b[0m\u001b[0;34m\u001b[0m\u001b[0m\n\u001b[1;32m      6\u001b[0m \u001b[0;32mimport\u001b[0m \u001b[0mtensorflow\u001b[0m \u001b[0;32mas\u001b[0m \u001b[0mtf\u001b[0m\u001b[0;34m\u001b[0m\u001b[0;34m\u001b[0m\u001b[0m\n\u001b[0;32m----> 7\u001b[0;31m \u001b[0;32mfrom\u001b[0m \u001b[0mkeras\u001b[0m\u001b[0;34m.\u001b[0m\u001b[0mdatasets\u001b[0m \u001b[0;32mimport\u001b[0m \u001b[0mcifar10\u001b[0m  \u001b[0;31m#to import dataset\u001b[0m\u001b[0;34m\u001b[0m\u001b[0;34m\u001b[0m\u001b[0m\n\u001b[0m",
      "\u001b[0;32m~/opt/anaconda3/envs/tf/lib/python3.7/site-packages/keras/__init__.py\u001b[0m in \u001b[0;36m<module>\u001b[0;34m\u001b[0m\n\u001b[1;32m     22\u001b[0m \u001b[0;32mfrom\u001b[0m \u001b[0mkeras\u001b[0m \u001b[0;32mimport\u001b[0m \u001b[0mdistribute\u001b[0m\u001b[0;34m\u001b[0m\u001b[0;34m\u001b[0m\u001b[0m\n\u001b[1;32m     23\u001b[0m \u001b[0;34m\u001b[0m\u001b[0m\n\u001b[0;32m---> 24\u001b[0;31m \u001b[0;32mfrom\u001b[0m \u001b[0mkeras\u001b[0m \u001b[0;32mimport\u001b[0m \u001b[0mmodels\u001b[0m\u001b[0;34m\u001b[0m\u001b[0;34m\u001b[0m\u001b[0m\n\u001b[0m\u001b[1;32m     25\u001b[0m \u001b[0;34m\u001b[0m\u001b[0m\n\u001b[1;32m     26\u001b[0m \u001b[0;32mfrom\u001b[0m \u001b[0mkeras\u001b[0m\u001b[0;34m.\u001b[0m\u001b[0mengine\u001b[0m\u001b[0;34m.\u001b[0m\u001b[0minput_layer\u001b[0m \u001b[0;32mimport\u001b[0m \u001b[0mInput\u001b[0m\u001b[0;34m\u001b[0m\u001b[0;34m\u001b[0m\u001b[0m\n",
      "\u001b[0;32m~/opt/anaconda3/envs/tf/lib/python3.7/site-packages/keras/models/__init__.py\u001b[0m in \u001b[0;36m<module>\u001b[0;34m\u001b[0m\n\u001b[1;32m     16\u001b[0m \u001b[0;31m# pylint: disable=g-bad-import-order\u001b[0m\u001b[0;34m\u001b[0m\u001b[0;34m\u001b[0m\u001b[0;34m\u001b[0m\u001b[0m\n\u001b[1;32m     17\u001b[0m \u001b[0;34m\u001b[0m\u001b[0m\n\u001b[0;32m---> 18\u001b[0;31m \u001b[0;32mfrom\u001b[0m \u001b[0mkeras\u001b[0m\u001b[0;34m.\u001b[0m\u001b[0mengine\u001b[0m\u001b[0;34m.\u001b[0m\u001b[0mfunctional\u001b[0m \u001b[0;32mimport\u001b[0m \u001b[0mFunctional\u001b[0m\u001b[0;34m\u001b[0m\u001b[0;34m\u001b[0m\u001b[0m\n\u001b[0m\u001b[1;32m     19\u001b[0m \u001b[0;32mfrom\u001b[0m \u001b[0mkeras\u001b[0m\u001b[0;34m.\u001b[0m\u001b[0mengine\u001b[0m\u001b[0;34m.\u001b[0m\u001b[0msequential\u001b[0m \u001b[0;32mimport\u001b[0m \u001b[0mSequential\u001b[0m\u001b[0;34m\u001b[0m\u001b[0;34m\u001b[0m\u001b[0m\n\u001b[1;32m     20\u001b[0m \u001b[0;32mfrom\u001b[0m \u001b[0mkeras\u001b[0m\u001b[0;34m.\u001b[0m\u001b[0mengine\u001b[0m\u001b[0;34m.\u001b[0m\u001b[0mtraining\u001b[0m \u001b[0;32mimport\u001b[0m \u001b[0mModel\u001b[0m\u001b[0;34m\u001b[0m\u001b[0;34m\u001b[0m\u001b[0m\n",
      "\u001b[0;32m~/opt/anaconda3/envs/tf/lib/python3.7/site-packages/keras/engine/functional.py\u001b[0m in \u001b[0;36m<module>\u001b[0;34m\u001b[0m\n\u001b[1;32m     21\u001b[0m \u001b[0;32mimport\u001b[0m \u001b[0mitertools\u001b[0m\u001b[0;34m\u001b[0m\u001b[0;34m\u001b[0m\u001b[0m\n\u001b[1;32m     22\u001b[0m \u001b[0;32mimport\u001b[0m \u001b[0mwarnings\u001b[0m\u001b[0;34m\u001b[0m\u001b[0;34m\u001b[0m\u001b[0m\n\u001b[0;32m---> 23\u001b[0;31m \u001b[0;32mfrom\u001b[0m \u001b[0mkeras\u001b[0m \u001b[0;32mimport\u001b[0m \u001b[0mbackend\u001b[0m\u001b[0;34m\u001b[0m\u001b[0;34m\u001b[0m\u001b[0m\n\u001b[0m\u001b[1;32m     24\u001b[0m \u001b[0;32mfrom\u001b[0m \u001b[0mkeras\u001b[0m\u001b[0;34m.\u001b[0m\u001b[0mdtensor\u001b[0m \u001b[0;32mimport\u001b[0m \u001b[0mlayout_map\u001b[0m \u001b[0;32mas\u001b[0m \u001b[0mlayout_map_lib\u001b[0m\u001b[0;34m\u001b[0m\u001b[0;34m\u001b[0m\u001b[0m\n\u001b[1;32m     25\u001b[0m \u001b[0;32mfrom\u001b[0m \u001b[0mkeras\u001b[0m\u001b[0;34m.\u001b[0m\u001b[0mengine\u001b[0m \u001b[0;32mimport\u001b[0m \u001b[0mbase_layer\u001b[0m\u001b[0;34m\u001b[0m\u001b[0;34m\u001b[0m\u001b[0m\n",
      "\u001b[0;32m~/opt/anaconda3/envs/tf/lib/python3.7/site-packages/keras/backend.py\u001b[0m in \u001b[0;36m<module>\u001b[0;34m\u001b[0m\n\u001b[1;32m     37\u001b[0m \u001b[0;32mfrom\u001b[0m \u001b[0mtensorflow\u001b[0m\u001b[0;34m.\u001b[0m\u001b[0mcore\u001b[0m\u001b[0;34m.\u001b[0m\u001b[0mprotobuf\u001b[0m \u001b[0;32mimport\u001b[0m \u001b[0mconfig_pb2\u001b[0m\u001b[0;34m\u001b[0m\u001b[0;34m\u001b[0m\u001b[0m\n\u001b[1;32m     38\u001b[0m \u001b[0;32mfrom\u001b[0m \u001b[0mtensorflow\u001b[0m\u001b[0;34m.\u001b[0m\u001b[0mpython\u001b[0m\u001b[0;34m.\u001b[0m\u001b[0meager\u001b[0m \u001b[0;32mimport\u001b[0m \u001b[0mcontext\u001b[0m\u001b[0;34m\u001b[0m\u001b[0;34m\u001b[0m\u001b[0m\n\u001b[0;32m---> 39\u001b[0;31m \u001b[0;32mfrom\u001b[0m \u001b[0mtensorflow\u001b[0m\u001b[0;34m.\u001b[0m\u001b[0mpython\u001b[0m\u001b[0;34m.\u001b[0m\u001b[0meager\u001b[0m\u001b[0;34m.\u001b[0m\u001b[0mcontext\u001b[0m \u001b[0;32mimport\u001b[0m \u001b[0mget_config\u001b[0m\u001b[0;34m\u001b[0m\u001b[0;34m\u001b[0m\u001b[0m\n\u001b[0m\u001b[1;32m     40\u001b[0m \u001b[0;32mfrom\u001b[0m \u001b[0mtensorflow\u001b[0m\u001b[0;34m.\u001b[0m\u001b[0mpython\u001b[0m\u001b[0;34m.\u001b[0m\u001b[0mframework\u001b[0m \u001b[0;32mimport\u001b[0m \u001b[0mconfig\u001b[0m\u001b[0;34m\u001b[0m\u001b[0;34m\u001b[0m\u001b[0m\n\u001b[1;32m     41\u001b[0m \u001b[0;32mfrom\u001b[0m \u001b[0mkeras\u001b[0m \u001b[0;32mimport\u001b[0m \u001b[0mbackend_config\u001b[0m\u001b[0;34m\u001b[0m\u001b[0;34m\u001b[0m\u001b[0m\n",
      "\u001b[0;31mImportError\u001b[0m: cannot import name 'get_config' from 'tensorflow.python.eager.context' (/Users/adityadandwate/opt/anaconda3/envs/tf/lib/python3.7/site-packages/tensorflow_core/python/eager/context.py)"
     ]
    }
   ],
   "source": [
    "import numpy as np\n",
    "import math\n",
    "from sklearn.metrics import accuracy_score \n",
    "from tqdm import tqdm\n",
    "from tensorflow import keras\n",
    "import tensorflow as tf\n",
    "from keras.datasets import cifar10  #to import dataset"
   ]
  },
  {
   "cell_type": "code",
   "execution_count": 2,
   "id": "7ecfbd9b",
   "metadata": {
    "execution": {
     "iopub.execute_input": "2022-07-29T06:05:37.580802Z",
     "iopub.status.busy": "2022-07-29T06:05:37.580289Z",
     "iopub.status.idle": "2022-07-29T06:05:39.956924Z",
     "shell.execute_reply": "2022-07-29T06:05:39.955214Z"
    },
    "papermill": {
     "duration": 2.383327,
     "end_time": "2022-07-29T06:05:39.959261",
     "exception": false,
     "start_time": "2022-07-29T06:05:37.575934",
     "status": "completed"
    },
    "tags": []
   },
   "outputs": [
    {
     "name": "stderr",
     "output_type": "stream",
     "text": [
      "2022-07-29 06:05:37.583105: I tensorflow/core/platform/cpu_feature_guard.cc:142] This TensorFlow binary is optimized with oneAPI Deep Neural Network Library (oneDNN) to use the following CPU instructions in performance-critical operations:  AVX2 AVX512F FMA\n",
      "To enable them in other operations, rebuild TensorFlow with the appropriate compiler flags.\n",
      "2022-07-29 06:05:37.643639: I tensorflow/stream_executor/cuda/cuda_gpu_executor.cc:937] successful NUMA node read from SysFS had negative value (-1), but there must be at least one NUMA node, so returning NUMA node zero\n",
      "2022-07-29 06:05:37.753387: I tensorflow/stream_executor/cuda/cuda_gpu_executor.cc:937] successful NUMA node read from SysFS had negative value (-1), but there must be at least one NUMA node, so returning NUMA node zero\n",
      "2022-07-29 06:05:37.754160: I tensorflow/stream_executor/cuda/cuda_gpu_executor.cc:937] successful NUMA node read from SysFS had negative value (-1), but there must be at least one NUMA node, so returning NUMA node zero\n",
      "2022-07-29 06:05:39.941582: I tensorflow/stream_executor/cuda/cuda_gpu_executor.cc:937] successful NUMA node read from SysFS had negative value (-1), but there must be at least one NUMA node, so returning NUMA node zero\n",
      "2022-07-29 06:05:39.942439: I tensorflow/stream_executor/cuda/cuda_gpu_executor.cc:937] successful NUMA node read from SysFS had negative value (-1), but there must be at least one NUMA node, so returning NUMA node zero\n",
      "2022-07-29 06:05:39.943142: I tensorflow/stream_executor/cuda/cuda_gpu_executor.cc:937] successful NUMA node read from SysFS had negative value (-1), but there must be at least one NUMA node, so returning NUMA node zero\n",
      "2022-07-29 06:05:39.943737: I tensorflow/core/common_runtime/gpu/gpu_device.cc:1510] Created device /device:GPU:0 with 15403 MB memory:  -> device: 0, name: Tesla P100-PCIE-16GB, pci bus id: 0000:00:04.0, compute capability: 6.0\n"
     ]
    },
    {
     "data": {
      "text/plain": [
       "'/device:GPU:0'"
      ]
     },
     "execution_count": 2,
     "metadata": {},
     "output_type": "execute_result"
    }
   ],
   "source": [
    "tf.test.gpu_device_name()\n",
    "#testing for gpu"
   ]
  },
  {
   "cell_type": "code",
   "execution_count": 3,
   "id": "7e3eae1c",
   "metadata": {
    "execution": {
     "iopub.execute_input": "2022-07-29T06:05:39.969392Z",
     "iopub.status.busy": "2022-07-29T06:05:39.967820Z",
     "iopub.status.idle": "2022-07-29T06:05:39.995953Z",
     "shell.execute_reply": "2022-07-29T06:05:39.994357Z"
    },
    "papermill": {
     "duration": 0.034508,
     "end_time": "2022-07-29T06:05:39.997951",
     "exception": false,
     "start_time": "2022-07-29T06:05:39.963443",
     "status": "completed"
    },
    "tags": []
   },
   "outputs": [
    {
     "name": "stdout",
     "output_type": "stream",
     "text": [
      "/kaggle/src/script.ipynb\n",
      "/kaggle/lib/kaggle/gcp.py\n",
      "/kaggle/input/cifar10kerasfilescifar10loadingdata/cifar-10.npz\n",
      "/kaggle/input/cifar10-python/cifar-10-python.tar.gz\n",
      "/kaggle/input/cifar10-python/cifar-10-batches-py/data_batch_1\n",
      "/kaggle/input/cifar10-python/cifar-10-batches-py/data_batch_2\n",
      "/kaggle/input/cifar10-python/cifar-10-batches-py/batches.meta\n",
      "/kaggle/input/cifar10-python/cifar-10-batches-py/test_batch\n",
      "/kaggle/input/cifar10-python/cifar-10-batches-py/data_batch_3\n",
      "/kaggle/input/cifar10-python/cifar-10-batches-py/data_batch_5\n",
      "/kaggle/input/cifar10-python/cifar-10-batches-py/data_batch_4\n",
      "/kaggle/input/cifar10-python/cifar-10-batches-py/readme.html\n",
      "/kaggle/input/fashionmnist/t10k-labels-idx1-ubyte\n",
      "/kaggle/input/fashionmnist/t10k-images-idx3-ubyte\n",
      "/kaggle/input/fashionmnist/fashion-mnist_test.csv\n",
      "/kaggle/input/fashionmnist/fashion-mnist_train.csv\n",
      "/kaggle/input/fashionmnist/train-labels-idx1-ubyte\n",
      "/kaggle/input/fashionmnist/train-images-idx3-ubyte\n",
      "/kaggle/working/__notebook__.ipynb\n"
     ]
    }
   ],
   "source": [
    "#If running in kaggle\n",
    "\n",
    "# import os\n",
    "# for dirname, _, filenames in os.walk('/kaggle/'):\n",
    "#     for filename in filenames:\n",
    "#         print(os.path.join(dirname, filename))\n",
    "\n",
    "#else use this\n",
    "(x_train, y_train), (x_test, y_test) = cifar10.load_data()"
   ]
  },
  {
   "cell_type": "code",
   "execution_count": 4,
   "id": "54f786bc",
   "metadata": {
    "execution": {
     "iopub.execute_input": "2022-07-29T06:05:40.007486Z",
     "iopub.status.busy": "2022-07-29T06:05:40.006174Z",
     "iopub.status.idle": "2022-07-29T06:05:42.836597Z",
     "shell.execute_reply": "2022-07-29T06:05:42.835334Z"
    },
    "papermill": {
     "duration": 2.837747,
     "end_time": "2022-07-29T06:05:42.839367",
     "exception": false,
     "start_time": "2022-07-29T06:05:40.001620",
     "status": "completed"
    },
    "tags": []
   },
   "outputs": [
    {
     "name": "stdout",
     "output_type": "stream",
     "text": [
      "(50000, 32, 32, 3)\n",
      "(50000, 1)\n"
     ]
    }
   ],
   "source": [
    "#------------for kaggle again---------------#\n",
    "\n",
    "# import numpy as np\n",
    "# data = np.load(\"/kaggle/input/cifar10kerasfilescifar10loadingdata/cifar-10.npz\")\n",
    "# filenames = [\"x_train\",\"y_train\",\"x_test\",\"y_test\"]\n",
    "# nps = []\n",
    "# for filename in filenames:\n",
    "#     nps.append(data[filename])\n",
    "# x_train,y_train,x_test,y_test = nps\n",
    "\n",
    "#-------------------------------------------#\n",
    "\n",
    "print(x_train.shape)\n",
    "print(y_train.shape)"
   ]
  },
  {
   "cell_type": "code",
   "execution_count": 5,
   "id": "0817512a",
   "metadata": {
    "execution": {
     "iopub.execute_input": "2022-07-29T06:05:42.849511Z",
     "iopub.status.busy": "2022-07-29T06:05:42.848566Z",
     "iopub.status.idle": "2022-07-29T06:05:43.313000Z",
     "shell.execute_reply": "2022-07-29T06:05:43.311805Z"
    },
    "papermill": {
     "duration": 0.472466,
     "end_time": "2022-07-29T06:05:43.316074",
     "exception": false,
     "start_time": "2022-07-29T06:05:42.843608",
     "status": "completed"
    },
    "tags": []
   },
   "outputs": [],
   "source": [
    "x_train = x_train.astype('float32')\n",
    "x_train = x_train/255\n",
    "x_test = x_test.astype('float32')\n",
    "x_test = x_test/255"
   ]
  },
  {
   "cell_type": "code",
   "execution_count": 6,
   "id": "158e07da",
   "metadata": {
    "execution": {
     "iopub.execute_input": "2022-07-29T06:05:43.330289Z",
     "iopub.status.busy": "2022-07-29T06:05:43.329866Z",
     "iopub.status.idle": "2022-07-29T06:05:43.340442Z",
     "shell.execute_reply": "2022-07-29T06:05:43.339585Z"
    },
    "papermill": {
     "duration": 0.020706,
     "end_time": "2022-07-29T06:05:43.343384",
     "exception": false,
     "start_time": "2022-07-29T06:05:43.322678",
     "status": "completed"
    },
    "tags": []
   },
   "outputs": [],
   "source": [
    "import matplotlib.pyplot as plt\n",
    "%matplotlib inline\n",
    "import numpy as np\n",
    "from sklearn.preprocessing import OneHotEncoder\n",
    "from keras.utils import np_utils\n"
   ]
  },
  {
   "cell_type": "code",
   "execution_count": 7,
   "id": "7827c446",
   "metadata": {
    "execution": {
     "iopub.execute_input": "2022-07-29T06:05:43.356314Z",
     "iopub.status.busy": "2022-07-29T06:05:43.355996Z",
     "iopub.status.idle": "2022-07-29T06:05:43.364563Z",
     "shell.execute_reply": "2022-07-29T06:05:43.363773Z"
    },
    "papermill": {
     "duration": 0.017735,
     "end_time": "2022-07-29T06:05:43.367102",
     "exception": false,
     "start_time": "2022-07-29T06:05:43.349367",
     "status": "completed"
    },
    "tags": []
   },
   "outputs": [],
   "source": [
    "y_train = np_utils.to_categorical(y_train) \n",
    "y_test = np_utils.to_categorical(y_test) \n",
    "num_classes = y_test.shape[1]\n"
   ]
  },
  {
   "cell_type": "code",
   "execution_count": 8,
   "id": "37eadecc",
   "metadata": {
    "execution": {
     "iopub.execute_input": "2022-07-29T06:05:43.379880Z",
     "iopub.status.busy": "2022-07-29T06:05:43.379561Z",
     "iopub.status.idle": "2022-07-29T06:05:43.413544Z",
     "shell.execute_reply": "2022-07-29T06:05:43.412771Z"
    },
    "papermill": {
     "duration": 0.04321,
     "end_time": "2022-07-29T06:05:43.416067",
     "exception": false,
     "start_time": "2022-07-29T06:05:43.372857",
     "status": "completed"
    },
    "tags": []
   },
   "outputs": [],
   "source": [
    "class CifarClass():\n",
    "\n",
    "  def __init__(self, learning_rate = 0.01):\n",
    "    #self.i = 0\n",
    "    self.training_images = None\n",
    "    self.training_labels = None \n",
    "    self.testing_images = None\n",
    "    self.testing_labels = None\n",
    "    self.__learning_rate = learning_rate\n",
    "\n",
    "  def setup_of_images(self):\n",
    "    self.training_images = x_train\n",
    "    train_len = len(self.training_images)\n",
    "    self.training_labels = y_train\n",
    "\n",
    "    self.testing_images = x_test\n",
    "    test_len = len(self.testing_images)\n",
    "    self.testing_labels = y_test\n",
    "\n",
    "  def __ReLU(self, Z):\n",
    "    return np.maximum(Z,0)\n",
    "\n",
    "  def __ReLU_derivative(self, z):\n",
    "    return z>0\n",
    "\n",
    "  def __softmax_score(self, x):\n",
    "    #print('output:', x)\n",
    "    exponent = np.exp(x - np.max(x))\n",
    "    #print('exponent1:', exponent)\n",
    "    # print('softmax score',exponent/exponent.sum(axis=0))\n",
    "    #print('exponent2:', exponent)\n",
    "    return exponent/exponent.sum()\n",
    "\n",
    "  def __forward_pass(self, X):\n",
    "    \n",
    "    self.__output1 = X.dot(self.__weights_1) + self.__bias_1      #shape: (1, 1024)\n",
    "    #print('first_output', self.__output1)      \n",
    "    self.__output1_relu = self.__ReLU(self.__output1)               #shape: (1, 1024)\n",
    "    #print('relu output', self.__output1_relu)\n",
    "    self.__output2 = self.__output1_relu.dot(self.__weights_2) + self.__bias_2  #shape: (10, 1)\n",
    "    #print('second_output', self.__output2)\n",
    "    self.__output2_softmax = self.__softmax_score(self.__output2)               #shape: (10, 1)\n",
    "    #print('softmax output', self.__output2_softmax)\n",
    "\n",
    "  def __backward_propogation(self, cross_entropy_gradient_2, difference_total_2, difference_total_1, cross_entropy_gradient_1):\n",
    "\n",
    "    #updating weights_2\n",
    "    step_size_2 = (cross_entropy_gradient_2*self.__learning_rate).T     #shape: (1024, 10)\n",
    "    self.__weights_2 = self.__weights_2 - step_size_2\n",
    "\n",
    "    #updating bias_2\n",
    "    self.__bias_2 = self.__bias_2 - (difference_total_2)/len(self.__x_batch)    #(1,10)\n",
    "    \n",
    "\n",
    "    #updating weights_1\n",
    "    step_size_1 = (cross_entropy_gradient_1*self.__learning_rate)     #(3072, 1024)\n",
    "    self.__weights_1 = self.__weights_1 - step_size_1\n",
    "\n",
    "    #updating bias_1\n",
    "    self.__bias_1 = self.__bias_1 - (difference_total_1.T)/len(self.__x_batch)   #(1,1024)\n",
    "\n",
    "  def train(self, X, y):\n",
    "\n",
    "    self.__class_count = 10\n",
    "    self.__weights_1 = np.random.rand(3072, 1024) - 0.5\n",
    "    self.__weights_2 = np.random.rand(1024, 10) - 0.5\n",
    "    self.__bias_1 = np.random.rand(1, 1024) - 0.5\n",
    "    self.__bias_2 = np.random.rand(1,10) - 0.5\n",
    "    \n",
    "    print('initial b_2:', self.__bias_2)\n",
    "    print('initial w_2:', self.__weights_2)\n",
    "\n",
    "    self.__num_epochs = 25\n",
    "\n",
    "    for i in range(self.__num_epochs):\n",
    "      print('epoch idx:', i)\n",
    "      for j in range(3125):\n",
    "        \n",
    "        self.__x_batch = X[j]                     #loading batches\n",
    "        self.__y_batch = y[j]\n",
    "\n",
    "        cross_entropy_sum_2 = 0\n",
    "        cross_entropy_sum_1 = 0\n",
    "        difference_total_1 = 0\n",
    "        difference_total_2 = 0\n",
    "        \n",
    "        for k in range(16):                       #loading images for forward pass\n",
    "          \n",
    "          self.__forward_pass(self.__x_batch[k])   #k is image index(sanity check)\n",
    "          cross_entropy_sum_2 += ((self.__output2_softmax - self.__y_batch[k]).T).dot(self.__output1_relu)  #shape: (10,1024)\n",
    "          #print('shape of label is:', self.__y_batch[k].shape)     \n",
    "          difference_total_2 += self.__output2_softmax - self.__y_batch[k]  #(1,10)\n",
    "          #print('shape of X is:', self.__x_batch[k].shape)\n",
    "          temp = self.__x_batch[k].reshape(3072,1)\n",
    "          #print('shape of reshaped X is:', temp.shape)\n",
    "          #print('shape of __ is:', (self.__weights_2.dot((self.__output2_softmax - self.__y_batch[k]).T)).shape)\n",
    "          cross_entropy_sum_1 += (temp).dot((self.__weights_2.dot((self.__output2_softmax - self.__y_batch[k]).T).T)*self.__ReLU_derivative(self.__output1)) #(3072, 1024)\n",
    "          difference_total_1 += self.__weights_2.dot((self.__output2_softmax - self.__y_batch[k]).T)            #(1024,1)\n",
    "\n",
    "        cross_entropy_gradient_2 = cross_entropy_sum_2/len(self.__x_batch)\n",
    "        cross_entropy_gradient_1 = cross_entropy_sum_1/len(self.__x_batch)\n",
    "\n",
    "        #backward pass for the batch\n",
    "        self.__backward_propogation(cross_entropy_gradient_2, difference_total_2, difference_total_1, cross_entropy_gradient_1)\n",
    "\n",
    "      predict = self.predict(cc.testing_images)\n",
    "      print('accuracy for epoch idx', i, 'is:', accuracy_score(cc.testing_labels, predict))\n",
    "        #print('shapes after backward propogation:', 'w1:', self.__weights_1.shape, 'b1:', self.__bias_1.shape, 'w2:', self.__weights_2.shape, 'b2:', self.__bias_2.shape)\n",
    "        #print('weights and biases after batch:', 'w1', self.__weights_1, 'b1', self.__bias_1)\n",
    "\n",
    "      # print('final w2:', self.__weights_2)\n",
    "      # print('final b2:', self.__bias_2)\n",
    "\n",
    "  def predict(self, X):\n",
    "    y= np.zeros((len(X), self.__class_count))\n",
    "    for i in range(len(X)):\n",
    "      self.__forward_pass(X[i])\n",
    "      max_score_idx = np.argmax(self.__output2_softmax)\n",
    "      y[i][max_score_idx] = 1\n",
    "    return y\n",
    "\n",
    "  \n",
    "  \n",
    "    "
   ]
  },
  {
   "cell_type": "code",
   "execution_count": 9,
   "id": "df2ba9d7",
   "metadata": {
    "execution": {
     "iopub.execute_input": "2022-07-29T06:05:43.429084Z",
     "iopub.status.busy": "2022-07-29T06:05:43.428772Z",
     "iopub.status.idle": "2022-07-29T06:05:43.434493Z",
     "shell.execute_reply": "2022-07-29T06:05:43.433518Z"
    },
    "papermill": {
     "duration": 0.01822,
     "end_time": "2022-07-29T06:05:43.440293",
     "exception": false,
     "start_time": "2022-07-29T06:05:43.422073",
     "status": "completed"
    },
    "tags": []
   },
   "outputs": [
    {
     "name": "stdout",
     "output_type": "stream",
     "text": [
      "(50000, 32, 32, 3)\n",
      "(10000, 32, 32, 3)\n"
     ]
    }
   ],
   "source": [
    "cc = CifarClass() \n",
    "cc.setup_of_images()\n",
    "\n",
    "print (cc.training_images.shape)\n",
    "print(cc.testing_images.shape)\n"
   ]
  },
  {
   "cell_type": "code",
   "execution_count": 10,
   "id": "f304ea9c",
   "metadata": {
    "execution": {
     "iopub.execute_input": "2022-07-29T06:05:43.453009Z",
     "iopub.status.busy": "2022-07-29T06:05:43.452712Z",
     "iopub.status.idle": "2022-07-29T06:05:43.692877Z",
     "shell.execute_reply": "2022-07-29T06:05:43.690730Z"
    },
    "papermill": {
     "duration": 0.249665,
     "end_time": "2022-07-29T06:05:43.695747",
     "exception": false,
     "start_time": "2022-07-29T06:05:43.446082",
     "status": "completed"
    },
    "tags": []
   },
   "outputs": [
    {
     "name": "stdout",
     "output_type": "stream",
     "text": [
      "(50000, 3072)\n",
      "final training image shape: (3125, 16, 3072)\n",
      "final training labels shape (3125, 16, 10)\n",
      "final testing images shape (10000, 3072)\n",
      "[0. 0. 1. 0. 0. 0. 0. 0. 0. 0.]\n",
      "(10,)\n",
      "1.0\n"
     ]
    }
   ],
   "source": [
    "#flattening\n",
    "\n",
    "cc.training_images = cc.training_images.reshape(50000, 3072)\n",
    "\n",
    "cc.training_images = cc.training_images - 0.5     \n",
    "\n",
    "print(cc.training_images.shape)\n",
    "cc.training_images = cc.training_images.reshape(3125, 16, 3072)\n",
    "print('final training image shape:', cc.training_images.shape)\n",
    "cc.training_labels = cc.training_labels.reshape(3125, 16, 10)         \n",
    "print('final training labels shape', cc.training_labels.shape)\n",
    "cc.testing_images = cc.testing_images.reshape(10000, 3072)\n",
    "cc.testing_images = cc.testing_images - 0.5\n",
    "print('final testing images shape', cc.testing_images.shape)\n",
    "\n",
    "print(cc.training_labels[23][15])\n",
    "\n",
    "#more testing\n",
    "temp = cc.training_labels[23]\n",
    "print(temp[15].shape)\n",
    "print(temp[15][2])"
   ]
  },
  {
   "cell_type": "code",
   "execution_count": 11,
   "id": "f28f375d",
   "metadata": {
    "execution": {
     "iopub.execute_input": "2022-07-29T06:05:43.705252Z",
     "iopub.status.busy": "2022-07-29T06:05:43.704938Z",
     "iopub.status.idle": "2022-07-29T06:05:43.710336Z",
     "shell.execute_reply": "2022-07-29T06:05:43.709295Z"
    },
    "papermill": {
     "duration": 0.012192,
     "end_time": "2022-07-29T06:05:43.712263",
     "exception": false,
     "start_time": "2022-07-29T06:05:43.700071",
     "status": "completed"
    },
    "tags": []
   },
   "outputs": [],
   "source": [
    "def main():\n",
    "  X_train = cc.training_images\n",
    "  y_train = cc.training_labels\n",
    "\n",
    "  X_test = cc.testing_images\n",
    "  y_test = cc.testing_labels\n",
    "\n",
    "  cc.train(X_train, y_train)\n",
    "\n",
    "  global predictions \n",
    "  predictions = cc.predict(X_test)\n",
    "\n",
    "  print('final accuracy', accuracy_score(y_test, predictions))"
   ]
  },
  {
   "cell_type": "code",
   "execution_count": 12,
   "id": "cac57caa",
   "metadata": {
    "execution": {
     "iopub.execute_input": "2022-07-29T06:05:43.720801Z",
     "iopub.status.busy": "2022-07-29T06:05:43.720481Z",
     "iopub.status.idle": "2022-07-29T11:05:40.983768Z",
     "shell.execute_reply": "2022-07-29T11:05:40.982776Z"
    },
    "papermill": {
     "duration": 17997.271273,
     "end_time": "2022-07-29T11:05:40.987322",
     "exception": false,
     "start_time": "2022-07-29T06:05:43.716049",
     "status": "completed"
    },
    "tags": []
   },
   "outputs": [
    {
     "name": "stdout",
     "output_type": "stream",
     "text": [
      "initial b_2: [[-0.05849051  0.13005025  0.34326399  0.12310553  0.19861653 -0.28221634\n",
      "  -0.43211352 -0.2805326  -0.09144563 -0.34479613]]\n",
      "initial w_2: [[ 0.1017466  -0.14100496  0.22776536 ...  0.12002991  0.4498872\n",
      "   0.35015966]\n",
      " [ 0.47496679 -0.05990181 -0.17118605 ... -0.38828319 -0.21033889\n",
      "  -0.24321102]\n",
      " [ 0.05101367  0.26990017 -0.47416377 ... -0.05884594 -0.00789025\n",
      "   0.09935907]\n",
      " ...\n",
      " [-0.40242027 -0.20120645 -0.20678906 ... -0.47687336 -0.18057245\n",
      "   0.39457007]\n",
      " [-0.13412645  0.00874054  0.02862964 ... -0.3952518  -0.29190923\n",
      "   0.30038228]\n",
      " [ 0.40319524 -0.07172258 -0.09330041 ...  0.04341981 -0.40878256\n",
      "  -0.07619746]]\n",
      "epoch idx: 0\n",
      "accuracy for epoch idx 0 is: 0.3781\n",
      "epoch idx: 1\n",
      "accuracy for epoch idx 1 is: 0.4076\n",
      "epoch idx: 2\n",
      "accuracy for epoch idx 2 is: 0.4185\n",
      "epoch idx: 3\n",
      "accuracy for epoch idx 3 is: 0.4285\n",
      "epoch idx: 4\n",
      "accuracy for epoch idx 4 is: 0.4325\n",
      "epoch idx: 5\n",
      "accuracy for epoch idx 5 is: 0.4356\n",
      "epoch idx: 6\n",
      "accuracy for epoch idx 6 is: 0.4409\n",
      "epoch idx: 7\n",
      "accuracy for epoch idx 7 is: 0.4449\n",
      "epoch idx: 8\n",
      "accuracy for epoch idx 8 is: 0.4462\n",
      "epoch idx: 9\n",
      "accuracy for epoch idx 9 is: 0.4461\n",
      "epoch idx: 10\n",
      "accuracy for epoch idx 10 is: 0.4456\n",
      "epoch idx: 11\n",
      "accuracy for epoch idx 11 is: 0.4456\n",
      "epoch idx: 12\n",
      "accuracy for epoch idx 12 is: 0.449\n",
      "epoch idx: 13\n",
      "accuracy for epoch idx 13 is: 0.4505\n",
      "epoch idx: 14\n",
      "accuracy for epoch idx 14 is: 0.4513\n",
      "epoch idx: 15\n",
      "accuracy for epoch idx 15 is: 0.4508\n",
      "epoch idx: 16\n",
      "accuracy for epoch idx 16 is: 0.4513\n",
      "epoch idx: 17\n",
      "accuracy for epoch idx 17 is: 0.4515\n",
      "epoch idx: 18\n",
      "accuracy for epoch idx 18 is: 0.4533\n",
      "epoch idx: 19\n",
      "accuracy for epoch idx 19 is: 0.454\n",
      "epoch idx: 20\n",
      "accuracy for epoch idx 20 is: 0.4529\n",
      "epoch idx: 21\n",
      "accuracy for epoch idx 21 is: 0.4535\n",
      "epoch idx: 22\n",
      "accuracy for epoch idx 22 is: 0.4533\n",
      "epoch idx: 23\n",
      "accuracy for epoch idx 23 is: 0.4534\n",
      "epoch idx: 24\n",
      "accuracy for epoch idx 24 is: 0.4516\n",
      "final accuracy 0.4516\n"
     ]
    }
   ],
   "source": [
    "if __name__ == \"__main__\":\n",
    "    main()\n",
    "    "
   ]
  }
 ],
 "metadata": {
  "kernelspec": {
   "display_name": "Python 3.7.13 ('tf')",
   "language": "python",
   "name": "python3"
  },
  "language_info": {
   "codemirror_mode": {
    "name": "ipython",
    "version": 3
   },
   "file_extension": ".py",
   "mimetype": "text/x-python",
   "name": "python",
   "nbconvert_exporter": "python",
   "pygments_lexer": "ipython3",
   "version": "3.7.13"
  },
  "papermill": {
   "default_parameters": {},
   "duration": 18020.870658,
   "end_time": "2022-07-29T11:05:43.728883",
   "environment_variables": {},
   "exception": null,
   "input_path": "__notebook__.ipynb",
   "output_path": "__notebook__.ipynb",
   "parameters": {},
   "start_time": "2022-07-29T06:05:22.858225",
   "version": "2.3.4"
  },
  "vscode": {
   "interpreter": {
    "hash": "28031d7d25694f73766452af3c8f3519c0d1811094a598bb3ab04b29b8086b2e"
   }
  }
 },
 "nbformat": 4,
 "nbformat_minor": 5
}
